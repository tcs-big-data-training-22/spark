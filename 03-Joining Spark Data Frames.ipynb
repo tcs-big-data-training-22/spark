{
 "cells": [
  {
   "cell_type": "code",
   "execution_count": null,
   "metadata": {},
   "outputs": [],
   "source": [
    "#!pip install pyspark\n",
    "#!pip install findspark"
   ]
  },
  {
   "cell_type": "code",
   "execution_count": 4,
   "metadata": {},
   "outputs": [
    {
     "name": "stdout",
     "output_type": "stream",
     "text": [
      "--2022-06-01 23:53:42--  https://sadatashareagsparkml.blob.core.windows.net/data/Predict-Forclosure.zip\n",
      "Resolving sadatashareagsparkml.blob.core.windows.net (sadatashareagsparkml.blob.core.windows.net)... 20.150.90.36\n",
      "Connecting to sadatashareagsparkml.blob.core.windows.net (sadatashareagsparkml.blob.core.windows.net)|20.150.90.36|:443... connected.\n",
      "HTTP request sent, awaiting response... 200 OK\n",
      "Length: 52933103 (50M) [application/x-zip-compressed]\n",
      "Saving to: ‘/home/atingupta2005/data/Predict-Forclosure.zip’\n",
      "\n",
      "/home/atingupta2005 100%[===================>]  50.48M   161MB/s    in 0.3s    \n",
      "\n",
      "2022-06-01 23:53:42 (161 MB/s) - ‘/home/atingupta2005/data/Predict-Forclosure.zip’ saved [52933103/52933103]\n",
      "\n",
      "Archive:  /home/atingupta2005/data/Predict-Forclosure.zip\n",
      "  inflating: /home/atingupta2005/data/Predict-Forclosure/Data_Definitionse3ea310.xlsx  \n",
      "   creating: /home/atingupta2005/data/Predict-Forclosure/Foreclosure-Prediction-Dataset/\n",
      "  inflating: /home/atingupta2005/data/Predict-Forclosure/Foreclosure-Prediction-Dataset/Customers_31JAN2019.csv  \n",
      "  inflating: /home/atingupta2005/data/Predict-Forclosure/Foreclosure-Prediction-Dataset/LMS_31JAN2019.csv  \n",
      "  inflating: /home/atingupta2005/data/Predict-Forclosure/Foreclosure-Prediction-Dataset/RF_Final_Data.csv  \n",
      "  inflating: /home/atingupta2005/data/Predict-Forclosure/Foreclosure-Prediction-Dataset/test_foreclosure.csv  \n",
      "  inflating: /home/atingupta2005/data/Predict-Forclosure/Foreclosure-Prediction-Dataset/train_foreclosure.csv  \n"
     ]
    }
   ],
   "source": [
    "#!rm -rf ~/data/Predict-Forclosure*\n",
    "#!mkdir -p ~/data\n",
    "#!wget https://sadatashareagsparkml.blob.core.windows.net/data/Predict-Forclosure.zip -O ~/data/Predict-Forclosure.zip\n",
    "#!unzip ~/data/Predict-Forclosure.zip -d ~/data/"
   ]
  },
  {
   "cell_type": "code",
   "execution_count": 6,
   "metadata": {},
   "outputs": [
    {
     "name": "stdout",
     "output_type": "stream",
     "text": [
      "Customers_31JAN2019.csv  RF_Final_Data.csv     train_foreclosure.csv\r\n",
      "LMS_31JAN2019.csv\t test_foreclosure.csv\r\n"
     ]
    }
   ],
   "source": [
    "!ls ~/data/Predict-Forclosure/Foreclosure-Prediction-Dataset"
   ]
  },
  {
   "cell_type": "code",
   "execution_count": 21,
   "metadata": {},
   "outputs": [],
   "source": [
    "from pathlib import Path\n",
    "home = str(Path.home())\n",
    "\n",
    "path_LMS = f\"{home}/data/Predict-Forclosure/Foreclosure-Prediction-Dataset/LMS_31JAN2019.csv\"\n",
    "path_RMS_Final = f\"{home}/data/Predict-Forclosure/Foreclosure-Prediction-Dataset/RF_Final_Data.csv\"\n",
    "path_Customer = f\"{home}/data/Predict-Forclosure/Foreclosure-Prediction-Dataset/Customers_31JAN2019.csv\""
   ]
  },
  {
   "cell_type": "code",
   "execution_count": 22,
   "metadata": {},
   "outputs": [],
   "source": [
    "import findspark\n",
    "findspark.init(\"/usr/spark\")\n",
    "import pyspark\n",
    "from pyspark.sql import SparkSession\n",
    "spark = SparkSession.builder.getOrCreate()"
   ]
  },
  {
   "cell_type": "code",
   "execution_count": 23,
   "metadata": {},
   "outputs": [
    {
     "data": {
      "text/plain": [
       "DataFrame[AGREEMENTID: int, CUSTOMERID: string, LOAN_AMT: string, NET_DISBURSED_AMT: string, INTEREST_START_DATE: string, CURRENT_ROI: double, ORIGNAL_ROI: double, CURRENT_TENOR: int, ORIGNAL_TENOR: int, DUEDAY: int, AUTHORIZATIONDATE: string, CITY: string, PRE_EMI_DUEAMT: double, PRE_EMI_RECEIVED_AMT: double, PRE_EMI_OS_AMOUNT: double, EMI_DUEAMT: double, EMI_RECEIVED_AMT: double, EMI_OS_AMOUNT: double, EXCESS_AVAILABLE: double, EXCESS_ADJUSTED_AMT: double, BALANCE_EXCESS: double, NET_RECEIVABLE: double, OUTSTANDING_PRINCIPAL: double, PAID_PRINCIPAL: double, PAID_INTEREST: double, MONTHOPENING: double, LAST_RECEIPT_DATE: string, LAST_RECEIPT_AMOUNT: double, NET_LTV: double, COMPLETED_TENURE: int, BALANCE_TENURE: int, DPD: int, FOIR: double, PRODUCT: string, SCHEMEID: string, NPA_IN_LAST_MONTH: string, NPA_IN_CURRENT_MONTH: string, MOB: int]"
      ]
     },
     "execution_count": 23,
     "metadata": {},
     "output_type": "execute_result"
    }
   ],
   "source": [
    "df_lms = spark\\\n",
    ".read\\\n",
    ".option(\"inferSchema\", \"true\")\\\n",
    ".option(\"header\", \"true\")\\\n",
    ".csv(path_LMS)\n",
    "df_lms"
   ]
  },
  {
   "cell_type": "code",
   "execution_count": 24,
   "metadata": {},
   "outputs": [
    {
     "data": {
      "text/plain": [
       "DataFrame[TicketId: string, Type: string, SubType: string, Status: string, Date: string, Preprocessed_EmailBody: string, Preprocessed_Subject: string, Masked_CustomerID: string, Masked_AgreementID: string]"
      ]
     },
     "execution_count": 24,
     "metadata": {},
     "output_type": "execute_result"
    }
   ],
   "source": [
    "df_RMS_Final = spark\\\n",
    ".read\\\n",
    ".option(\"inferSchema\", \"true\")\\\n",
    ".option(\"header\", \"true\")\\\n",
    ".csv(path_RMS_Final)\n",
    "df_RMS_Final"
   ]
  },
  {
   "cell_type": "code",
   "execution_count": 25,
   "metadata": {},
   "outputs": [
    {
     "data": {
      "text/plain": [
       "DataFrame[CUSTOMERID: int, CUST_CONSTTYPE_ID: int, CUST_CATEGORYID: int, PROFESSION: string, AGE: int, SEX: string, MARITAL_STATUS: string, QUALIFICATION: string, NO_OF_DEPENDENT: int, OCCUPATION: string, POSITION: string, GROSS_INCOME: double, PRE_JOBYEARS: int, NETTAKEHOMEINCOME: double, BRANCH_PINCODE: string]"
      ]
     },
     "execution_count": 25,
     "metadata": {},
     "output_type": "execute_result"
    }
   ],
   "source": [
    "df_Customer = spark\\\n",
    ".read\\\n",
    ".option(\"inferSchema\", \"true\")\\\n",
    ".option(\"header\", \"true\")\\\n",
    ".csv(path_Customer)\n",
    "df_Customer"
   ]
  },
  {
   "cell_type": "code",
   "execution_count": 7,
   "metadata": {},
   "outputs": [
    {
     "name": "stdout",
     "output_type": "stream",
     "text": [
      "+----------+-----------------+---------------+----------+---+---+--------------+-------------+---------------+----------+--------+------------+------------+-----------------+--------------+\n",
      "|CUSTOMERID|CUST_CONSTTYPE_ID|CUST_CATEGORYID|PROFESSION|AGE|SEX|MARITAL_STATUS|QUALIFICATION|NO_OF_DEPENDENT|OCCUPATION|POSITION|GROSS_INCOME|PRE_JOBYEARS|NETTAKEHOMEINCOME|BRANCH_PINCODE|\n",
      "+----------+-----------------+---------------+----------+---+---+--------------+-------------+---------------+----------+--------+------------+------------+-----------------+--------------+\n",
      "|  12001000|                1|              5|      null| 33|  M|             M|     POSTGRAD|              0|      null|    null| 198375.2218|           8|      198375.2218|        400070|\n",
      "+----------+-----------------+---------------+----------+---+---+--------------+-------------+---------------+----------+--------+------------+------------+-----------------+--------------+\n",
      "only showing top 1 row\n",
      "\n"
     ]
    }
   ],
   "source": [
    "df_Customer.show(1)"
   ]
  },
  {
   "cell_type": "code",
   "execution_count": 8,
   "metadata": {},
   "outputs": [
    {
     "name": "stdout",
     "output_type": "stream",
     "text": [
      "+--------+-------+--------------------+------+-------------------+----------------------+--------------------+-----------------+------------------+\n",
      "|TicketId|   Type|             SubType|Status|               Date|Preprocessed_EmailBody|Preprocessed_Subject|Masked_CustomerID|Masked_AgreementID|\n",
      "+--------+-------+--------------------+------+-------------------+----------------------+--------------------+-----------------+------------------+\n",
      "|  571910|REQUEST|PROVISIONAL IT CE...| Close|2019-01-23 16:34:00|  hi team, can you ...|loan account numb...|         12020736|                 0|\n",
      "+--------+-------+--------------------+------+-------------------+----------------------+--------------------+-----------------+------------------+\n",
      "only showing top 1 row\n",
      "\n"
     ]
    }
   ],
   "source": [
    "df_RMS_Final.show(1)"
   ]
  },
  {
   "cell_type": "code",
   "execution_count": 9,
   "metadata": {},
   "outputs": [
    {
     "name": "stdout",
     "output_type": "stream",
     "text": [
      "+-----------+----------+----------------+-----------------+-------------------+-----------+-----------+-------------+-------------+------+-----------------+------+--------------+--------------------+-----------------+-----------+----------------+-------------+----------------+-------------------+--------------+--------------+---------------------+--------------+-------------+------------+-----------------+-------------------+-------+----------------+--------------+---+----+-------+--------+-----------------+--------------------+---+\n",
      "|AGREEMENTID|CUSTOMERID|        LOAN_AMT|NET_DISBURSED_AMT|INTEREST_START_DATE|CURRENT_ROI|ORIGNAL_ROI|CURRENT_TENOR|ORIGNAL_TENOR|DUEDAY|AUTHORIZATIONDATE|  CITY|PRE_EMI_DUEAMT|PRE_EMI_RECEIVED_AMT|PRE_EMI_OS_AMOUNT| EMI_DUEAMT|EMI_RECEIVED_AMT|EMI_OS_AMOUNT|EXCESS_AVAILABLE|EXCESS_ADJUSTED_AMT|BALANCE_EXCESS|NET_RECEIVABLE|OUTSTANDING_PRINCIPAL|PAID_PRINCIPAL|PAID_INTEREST|MONTHOPENING|LAST_RECEIPT_DATE|LAST_RECEIPT_AMOUNT|NET_LTV|COMPLETED_TENURE|BALANCE_TENURE|DPD|FOIR|PRODUCT|SCHEMEID|NPA_IN_LAST_MONTH|NPA_IN_CURRENT_MONTH|MOB|\n",
      "+-----------+----------+----------------+-----------------+-------------------+-----------+-----------+-------------+-------------+------+-----------------+------+--------------+--------------------+-----------------+-----------+----------------+-------------+----------------+-------------------+--------------+--------------+---------------------+--------------+-------------+------------+-----------------+-------------------+-------+----------------+--------------+---+----+-------+--------+-----------------+--------------------+---+\n",
      "|   11220001|  12001000| 1,17,10,107.24 |  1,17,10,107.24 |          30-Aug-10|       13.7|       10.6|           58|          120|     1|        29-Aug-10|MUMBAI|   7994.273589|         7994.273589|              0.0|7516698.513|     7332154.116|  184544.3966|      29042.4588|         29042.4588|           0.0|   184544.3966|          2262176.817|   9447930.423|  2617476.019| 9338009.117|        01-Nov-13|            83559.0|  40.06|              39|            19|  0| 0.6|     HL|10901100|             null|                null| 39|\n",
      "+-----------+----------+----------------+-----------------+-------------------+-----------+-----------+-------------+-------------+------+-----------------+------+--------------+--------------------+-----------------+-----------+----------------+-------------+----------------+-------------------+--------------+--------------+---------------------+--------------+-------------+------------+-----------------+-------------------+-------+----------------+--------------+---+----+-------+--------+-----------------+--------------------+---+\n",
      "only showing top 1 row\n",
      "\n"
     ]
    }
   ],
   "source": [
    "df_lms.show(1)"
   ]
  },
  {
   "cell_type": "code",
   "execution_count": 10,
   "metadata": {},
   "outputs": [],
   "source": [
    "df_lms = df_Customer.repartition(6)"
   ]
  },
  {
   "cell_type": "code",
   "execution_count": 11,
   "metadata": {},
   "outputs": [
    {
     "name": "stdout",
     "output_type": "stream",
     "text": [
      "+----------+-----------------+---------------+----------+----+----+--------------+-------------+---------------+----------+--------+------------+------------+-----------------+--------------+\n",
      "|CUSTOMERID|CUST_CONSTTYPE_ID|CUST_CATEGORYID|PROFESSION| AGE| SEX|MARITAL_STATUS|QUALIFICATION|NO_OF_DEPENDENT|OCCUPATION|POSITION|GROSS_INCOME|PRE_JOBYEARS|NETTAKEHOMEINCOME|BRANCH_PINCODE|\n",
      "+----------+-----------------+---------------+----------+----+----+--------------+-------------+---------------+----------+--------+------------+------------+-----------------+--------------+\n",
      "|  12012262|                1|              4|      null|  25|   M|             S|           UG|              0|      null|    null| 71186.43251|        null|      71186.43251|        500050|\n",
      "|  12003305|                1|              4|      null|  45|   F|             M|         GRAD|              0|      null|    null| 0.120103664|        null|      0.124607551|        600017|\n",
      "|  12008188|                1|              4|      null|  45|   M|             M|           UG|              0|      null|    null|  56298.5925|        null|       56298.5925|        641002|\n",
      "|  12006331|                1|              4|      null|  42|   M|             M|         GRAD|              0|      null|    null| 197504.4703|        null|      197504.4703|        110001|\n",
      "|  12004655|                1|              4|      null|  33|   M|             M|         GRAD|              2|      null|    null|  637240.886|        null|      637240.8905|        110001|\n",
      "|  12006806|                1|              4|      null|  49|   M|             M|           UG|              0|      null|    null|   225194.37|        null|        225194.37|        620017|\n",
      "|  12004749|                1|              4|      null|  56|   M|             M|         GRAD|              0|      null|    null| 64571.10768|        null|      64571.10768|        411005|\n",
      "|  12003829|                1|              5|      null|  38|   M|             M|          PRF|              2|      null|    null| 103136.0189|           0|      103136.0189|        600017|\n",
      "|  12002208|                4|              8|      null|null|null|          null|         null|              0|      null|      MD|         0.0|        null|              0.0|        400070|\n",
      "|  12011201|                1|              5|      null|  43|   M|             M|           UG|              0|      null|    null| 55792.65582|           0|      55792.65582|        560095|\n",
      "|  12002372|                1|              5|      null|  30|   M|             S|     POSTGRAD|              0|      null|    null|  107623.392|           6|       107623.392|        560095|\n",
      "|  12011203|                1|              4|      null|  51|   M|             M|         GRAD|              0|      null|    null| 60218.10051|        null|      60218.10051|        422007|\n",
      "|  12012755|                1|              5|      null|  50|   M|             M|         GRAD|              0|      null|    null| 112897.4442|        null|      112897.4442|        411005|\n",
      "|  12003213|                4|              8|      null|null|null|          null|         null|              0|      null|      MD|         0.0|        null|              0.0|        400070|\n",
      "|  12012504|                1|              4|      null|  43|   M|             M|           UG|              0|      null|    null| 51719.95558|        null|      51719.95558|        500034|\n",
      "|  12005931|                1|              4|      null|  29|   M|             S|         GRAD|              0|      null|    null| 91610.82623|        null|      91610.82173|        500034|\n",
      "|  12003029|                1|              4|      null|  29|   M|             M|           UG|              2|      null|    null| 144124.3968|        null|      144124.3968|        620017|\n",
      "|  12012402|                1|              4|      null|  65|   M|             M|          PRF|              5|      null|    null|  314655.716|        null|      314655.7115|        380015|\n",
      "|  12008863|                1|              5|      null|  52|   F|             M|         GRAD|              2|      null|    null| 80052.09465|        null|      80052.09465|        639001|\n",
      "|  12010418|                1|              5|      null|  37|   M|             M|         GRAD|              0|      null|    null| 128269.2119|           4|      128269.2119|        533101|\n",
      "+----------+-----------------+---------------+----------+----+----+--------------+-------------+---------------+----------+--------+------------+------------+-----------------+--------------+\n",
      "only showing top 20 rows\n",
      "\n"
     ]
    }
   ],
   "source": [
    "df_lms.show()"
   ]
  },
  {
   "cell_type": "code",
   "execution_count": 12,
   "metadata": {},
   "outputs": [
    {
     "name": "stdout",
     "output_type": "stream",
     "text": [
      "+----------+-----------------+---------------+----------+----+----+--------------+-------------+---------------+----------+--------+------------+------------+-----------------+--------------+\n",
      "|CUSTOMERID|CUST_CONSTTYPE_ID|CUST_CATEGORYID|PROFESSION| AGE| SEX|MARITAL_STATUS|QUALIFICATION|NO_OF_DEPENDENT|OCCUPATION|POSITION|GROSS_INCOME|PRE_JOBYEARS|NETTAKEHOMEINCOME|BRANCH_PINCODE|\n",
      "+----------+-----------------+---------------+----------+----+----+--------------+-------------+---------------+----------+--------+------------+------------+-----------------+--------------+\n",
      "|  12012262|                1|              4|      null|  25|   M|             S|           UG|              0|      null|    null| 71186.43251|        null|      71186.43251|        500050|\n",
      "|  12003305|                1|              4|      null|  45|   F|             M|         GRAD|              0|      null|    null| 0.120103664|        null|      0.124607551|        600017|\n",
      "|  12008188|                1|              4|      null|  45|   M|             M|           UG|              0|      null|    null|  56298.5925|        null|       56298.5925|        641002|\n",
      "|  12006331|                1|              4|      null|  42|   M|             M|         GRAD|              0|      null|    null| 197504.4703|        null|      197504.4703|        110001|\n",
      "|  12004655|                1|              4|      null|  33|   M|             M|         GRAD|              2|      null|    null|  637240.886|        null|      637240.8905|        110001|\n",
      "|  12006806|                1|              4|      null|  49|   M|             M|           UG|              0|      null|    null|   225194.37|        null|        225194.37|        620017|\n",
      "|  12004749|                1|              4|      null|  56|   M|             M|         GRAD|              0|      null|    null| 64571.10768|        null|      64571.10768|        411005|\n",
      "|  12003829|                1|              5|      null|  38|   M|             M|          PRF|              2|      null|    null| 103136.0189|           0|      103136.0189|        600017|\n",
      "|  12002208|                4|              8|      null|null|null|          null|         null|              0|      null|      MD|         0.0|        null|              0.0|        400070|\n",
      "|  12011201|                1|              5|      null|  43|   M|             M|           UG|              0|      null|    null| 55792.65582|           0|      55792.65582|        560095|\n",
      "|  12002372|                1|              5|      null|  30|   M|             S|     POSTGRAD|              0|      null|    null|  107623.392|           6|       107623.392|        560095|\n",
      "|  12011203|                1|              4|      null|  51|   M|             M|         GRAD|              0|      null|    null| 60218.10051|        null|      60218.10051|        422007|\n",
      "|  12012755|                1|              5|      null|  50|   M|             M|         GRAD|              0|      null|    null| 112897.4442|        null|      112897.4442|        411005|\n",
      "|  12003213|                4|              8|      null|null|null|          null|         null|              0|      null|      MD|         0.0|        null|              0.0|        400070|\n",
      "|  12012504|                1|              4|      null|  43|   M|             M|           UG|              0|      null|    null| 51719.95558|        null|      51719.95558|        500034|\n",
      "|  12005931|                1|              4|      null|  29|   M|             S|         GRAD|              0|      null|    null| 91610.82623|        null|      91610.82173|        500034|\n",
      "|  12003029|                1|              4|      null|  29|   M|             M|           UG|              2|      null|    null| 144124.3968|        null|      144124.3968|        620017|\n",
      "|  12012402|                1|              4|      null|  65|   M|             M|          PRF|              5|      null|    null|  314655.716|        null|      314655.7115|        380015|\n",
      "|  12008863|                1|              5|      null|  52|   F|             M|         GRAD|              2|      null|    null| 80052.09465|        null|      80052.09465|        639001|\n",
      "|  12010418|                1|              5|      null|  37|   M|             M|         GRAD|              0|      null|    null| 128269.2119|           4|      128269.2119|        533101|\n",
      "+----------+-----------------+---------------+----------+----+----+--------------+-------------+---------------+----------+--------+------------+------------+-----------------+--------------+\n",
      "only showing top 20 rows\n",
      "\n"
     ]
    }
   ],
   "source": [
    "df_lms.coalesce(4).show()"
   ]
  },
  {
   "cell_type": "code",
   "execution_count": 13,
   "metadata": {},
   "outputs": [
    {
     "data": {
      "text/plain": [
       "1"
      ]
     },
     "execution_count": 13,
     "metadata": {},
     "output_type": "execute_result"
    }
   ],
   "source": [
    "df_lms = df_lms.repartition(1)\n",
    "df_lms.rdd.getNumPartitions()"
   ]
  },
  {
   "cell_type": "code",
   "execution_count": 14,
   "metadata": {},
   "outputs": [
    {
     "name": "stdout",
     "output_type": "stream",
     "text": [
      "== Physical Plan ==\n",
      "*(2) Sort [MARITAL_STATUS#130 ASC NULLS FIRST], true, 0\n",
      "+- Exchange rangepartitioning(MARITAL_STATUS#130 ASC NULLS FIRST, 200)\n",
      "   +- Exchange RoundRobinPartitioning(1)\n",
      "      +- *(1) FileScan csv [CUSTOMERID#124,CUST_CONSTTYPE_ID#125,CUST_CATEGORYID#126,PROFESSION#127,AGE#128,SEX#129,MARITAL_STATUS#130,QUALIFICATION#131,NO_OF_DEPENDENT#132,OCCUPATION#133,POSITION#134,GROSS_INCOME#135,PRE_JOBYEARS#136,NETTAKEHOMEINCOME#137,BRANCH_PINCODE#138] Batched: false, Format: CSV, Location: InMemoryFileIndex[file:/home/atingupta2005/pyspark-mllib-barclays-june-22/Spark/03-Joining Spark ..., PartitionFilters: [], PushedFilters: [], ReadSchema: struct<CUSTOMERID:int,CUST_CONSTTYPE_ID:int,CUST_CATEGORYID:int,PROFESSION:string,AGE:int,SEX:str...\n"
     ]
    }
   ],
   "source": [
    "df_lms.sort(\"MARITAL_STATUS\").explain()"
   ]
  },
  {
   "cell_type": "code",
   "execution_count": 15,
   "metadata": {},
   "outputs": [
    {
     "data": {
      "text/plain": [
       "4"
      ]
     },
     "execution_count": 15,
     "metadata": {},
     "output_type": "execute_result"
    }
   ],
   "source": [
    "df_lms.orderBy(\"MARITAL_STATUS\").rdd.getNumPartitions()"
   ]
  },
  {
   "cell_type": "code",
   "execution_count": 16,
   "metadata": {},
   "outputs": [],
   "source": [
    "df_lms_sort = df_lms.orderBy(\"NO_OF_DEPENDENT\")"
   ]
  },
  {
   "cell_type": "code",
   "execution_count": 17,
   "metadata": {},
   "outputs": [
    {
     "name": "stdout",
     "output_type": "stream",
     "text": [
      "== Physical Plan ==\n",
      "*(2) Sort [NO_OF_DEPENDENT#132 ASC NULLS FIRST], true, 0\n",
      "+- Exchange rangepartitioning(NO_OF_DEPENDENT#132 ASC NULLS FIRST, 200)\n",
      "   +- Exchange RoundRobinPartitioning(1)\n",
      "      +- *(1) FileScan csv [CUSTOMERID#124,CUST_CONSTTYPE_ID#125,CUST_CATEGORYID#126,PROFESSION#127,AGE#128,SEX#129,MARITAL_STATUS#130,QUALIFICATION#131,NO_OF_DEPENDENT#132,OCCUPATION#133,POSITION#134,GROSS_INCOME#135,PRE_JOBYEARS#136,NETTAKEHOMEINCOME#137,BRANCH_PINCODE#138] Batched: false, Format: CSV, Location: InMemoryFileIndex[file:/home/atingupta2005/pyspark-mllib-barclays-june-22/Spark/03-Joining Spark ..., PartitionFilters: [], PushedFilters: [], ReadSchema: struct<CUSTOMERID:int,CUST_CONSTTYPE_ID:int,CUST_CATEGORYID:int,PROFESSION:string,AGE:int,SEX:str...\n"
     ]
    }
   ],
   "source": [
    "df_lms_sort.explain()"
   ]
  },
  {
   "cell_type": "code",
   "execution_count": 18,
   "metadata": {},
   "outputs": [
    {
     "name": "stdout",
     "output_type": "stream",
     "text": [
      "+----------+-----------------+---------------+----------+----+----+--------------+-------------+---------------+----------+--------+------------+------------+-----------------+--------------+\n",
      "|CUSTOMERID|CUST_CONSTTYPE_ID|CUST_CATEGORYID|PROFESSION| AGE| SEX|MARITAL_STATUS|QUALIFICATION|NO_OF_DEPENDENT|OCCUPATION|POSITION|GROSS_INCOME|PRE_JOBYEARS|NETTAKEHOMEINCOME|BRANCH_PINCODE|\n",
      "+----------+-----------------+---------------+----------+----+----+--------------+-------------+---------------+----------+--------+------------+------------+-----------------+--------------+\n",
      "|  12001088|                2|              8|      null|null|null|          null|         null|           null|      null|    null|         0.0|        null|              0.0|          #N/A|\n",
      "|  12003654|                1|              5|      null|null|null|          null|         null|           null|      null|    null|         0.0|        null|              0.0|          #N/A|\n",
      "|  12001109|                6|              8|      null|null|null|          null|         null|           null|      null|    null|         0.0|        null|              0.0|          #N/A|\n",
      "|  12001213|                4|              8|      null|null|null|          null|         null|           null|      null|    null|         0.0|        null|              0.0|          #N/A|\n",
      "|  12001454|                4|              8|      null|null|null|          null|         null|           null|      null|    null|         0.0|        null|              0.0|          #N/A|\n",
      "|  12001540|                4|              8|      null|null|null|          null|         null|           null|      null|    null|         0.0|        null|              0.0|          #N/A|\n",
      "|  12001563|                4|              8|      null|null|null|          null|         null|           null|      null|    null|         0.0|        null|              0.0|          #N/A|\n",
      "|  12001590|                4|              8|      null|null|null|          null|         null|           null|      null|    null|         0.0|        null|              0.0|          #N/A|\n",
      "|  12001622|                4|              8|      null|null|null|          null|         null|           null|      null|    null|         0.0|        null|              0.0|          #N/A|\n",
      "|  12001847|                4|              8|      null|null|null|          null|         null|           null|      null|    null|         0.0|        null|              0.0|          #N/A|\n",
      "|  12001854|                1|              4|      null|null|   M|          null|         null|           null|      null|    null| 2291198.081|        null|              0.0|          #N/A|\n",
      "|  12001981|                4|              8|      null|null|null|          null|         null|           null|      null|    null|         0.0|        null|              0.0|          #N/A|\n",
      "|  12002119|                2|              8|      null|null|null|          null|         null|           null|      null|    null|         0.0|        null|              0.0|          #N/A|\n",
      "|  12002230|                4|              8|      null|null|null|          null|         null|           null|      null|    null|         0.0|        null|              0.0|          #N/A|\n",
      "|  12002362|                4|              8|      null|null|null|          null|         null|           null|      null|    null|         0.0|        null|              0.0|          #N/A|\n",
      "|  12002704|                1|              4|      null|null|null|          null|         null|           null|      null|    null|         0.0|        null|              0.0|          #N/A|\n",
      "|  12002799|                1|              4|      null|null|null|          null|         null|           null|      null|    null|         0.0|        null|              0.0|          #N/A|\n",
      "|  12003338|                1|              4|      null|null|null|          null|         null|           null|      null|    null|         0.0|        null|              0.0|          #N/A|\n",
      "|  12004216|                1|              4|      null|null|null|          null|         null|           null|      null|    null|         0.0|        null|              0.0|          #N/A|\n",
      "|  12003624|                1|              4|      null|null|null|          null|         null|           null|      null|    null|         0.0|        null|              0.0|          #N/A|\n",
      "+----------+-----------------+---------------+----------+----+----+--------------+-------------+---------------+----------+--------+------------+------------+-----------------+--------------+\n",
      "only showing top 20 rows\n",
      "\n"
     ]
    }
   ],
   "source": [
    "df_lms_sort.show()"
   ]
  },
  {
   "cell_type": "code",
   "execution_count": 19,
   "metadata": {},
   "outputs": [
    {
     "name": "stdout",
     "output_type": "stream",
     "text": [
      "['CUSTOMERID', 'CUST_CONSTTYPE_ID', 'CUST_CATEGORYID', 'PROFESSION', 'AGE', 'SEX', 'MARITAL_STATUS', 'QUALIFICATION', 'NO_OF_DEPENDENT', 'OCCUPATION', 'POSITION', 'GROSS_INCOME', 'PRE_JOBYEARS', 'NETTAKEHOMEINCOME', 'BRANCH_PINCODE']\n",
      "['CUSTOMERID', 'CUST_CONSTTYPE_ID', 'CUST_CATEGORYID', 'PROFESSION', 'AGE', 'SEX', 'MARITAL_STATUS', 'QUALIFICATION', 'NO_OF_DEPENDENT', 'OCCUPATION', 'POSITION', 'GROSS_INCOME', 'PRE_JOBYEARS', 'NETTAKEHOMEINCOME', 'BRANCH_PINCODE']\n"
     ]
    }
   ],
   "source": [
    "print(df_lms.columns)\n",
    "print(df_Customer.columns)"
   ]
  },
  {
   "cell_type": "code",
   "execution_count": 20,
   "metadata": {
    "application/vnd.databricks.v1+cell": {
     "inputWidgets": {},
     "nuid": "3bf4c6f9-f309-4516-88c0-cbbe76e5142c",
     "showTitle": false,
     "title": ""
    }
   },
   "outputs": [
    {
     "name": "stdout",
     "output_type": "stream",
     "text": [
      "+----------+---+--------------+------------+------------+\n",
      "|CUSTOMERID|SEX|MARITAL_STATUS|GROSS_INCOME|PRE_JOBYEARS|\n",
      "+----------+---+--------------+------------+------------+\n",
      "|  12001000|  M|             M| 198375.2218|           8|\n",
      "|  12001001|  M|             M| 242703.9829|          10|\n",
      "|  12001002|  M|             M|         0.0|        null|\n",
      "|  12001003|  M|             M| 365263.5116|        null|\n",
      "|  12001004|  M|             M|  187342.199|        null|\n",
      "|  12001005|  M|             M| 53536.20823|        null|\n",
      "|  12001006|  M|             M| 49842.14981|        null|\n",
      "|  12001007|  M|             M| 123370.4837|           7|\n",
      "|  12001008|  M|             M| 183331.9827|        null|\n",
      "|  12001009|  M|             M| 93803.84407|        null|\n",
      "|  12001010|  M|             M| 35880.96962|           5|\n",
      "|  12001011|  M|             M| 63576.87454|           0|\n",
      "|  12001012|  M|             M| 108093.2976|           1|\n",
      "|  12001013|  M|             M| 331757.8472|           5|\n",
      "|  12001014|  M|             M| 59535.38624|           8|\n",
      "|  12001015|  M|             M| 95156.63169|           0|\n",
      "|  12001017|  M|             M| 90132.16997|        null|\n",
      "|  12001018|  M|             M| 1102122.265|          14|\n",
      "|  12001019|  M|             M| 133719.7864|        null|\n",
      "|  12001020|  F|             S| 77097.54451|           3|\n",
      "+----------+---+--------------+------------+------------+\n",
      "only showing top 20 rows\n",
      "\n"
     ]
    }
   ],
   "source": [
    "df_lms.alias(\"df_lms\"). \\\n",
    "    join(df_Customer.alias(\"df_Customer\"), df_lms.CUSTOMERID == df_Customer.CUSTOMERID). \\\n",
    "    select(\"df_lms.CUSTOMERID\",\"df_Customer.SEX\",\"df_Customer.MARITAL_STATUS\",\"df_Customer.GROSS_INCOME\",\"df_Customer.PRE_JOBYEARS\").\\\n",
    "    show()"
   ]
  },
  {
   "cell_type": "code",
   "execution_count": 21,
   "metadata": {
    "application/vnd.databricks.v1+cell": {
     "inputWidgets": {},
     "nuid": "562c7a90-96bc-4616-9085-b20de7e014fb",
     "showTitle": false,
     "title": ""
    }
   },
   "outputs": [
    {
     "name": "stdout",
     "output_type": "stream",
     "text": [
      "+----------+---+--------------+------------+------------+\n",
      "|CUSTOMERID|SEX|MARITAL_STATUS|GROSS_INCOME|PRE_JOBYEARS|\n",
      "+----------+---+--------------+------------+------------+\n",
      "|  12001000|  M|             M| 198375.2218|           8|\n",
      "|  12001001|  M|             M| 242703.9829|          10|\n",
      "|  12001002|  M|             M|         0.0|        null|\n",
      "|  12001003|  M|             M| 365263.5116|        null|\n",
      "|  12001004|  M|             M|  187342.199|        null|\n",
      "|  12001005|  M|             M| 53536.20823|        null|\n",
      "|  12001006|  M|             M| 49842.14981|        null|\n",
      "|  12001007|  M|             M| 123370.4837|           7|\n",
      "|  12001008|  M|             M| 183331.9827|        null|\n",
      "|  12001009|  M|             M| 93803.84407|        null|\n",
      "|  12001010|  M|             M| 35880.96962|           5|\n",
      "|  12001011|  M|             M| 63576.87454|           0|\n",
      "|  12001012|  M|             M| 108093.2976|           1|\n",
      "|  12001013|  M|             M| 331757.8472|           5|\n",
      "|  12001014|  M|             M| 59535.38624|           8|\n",
      "|  12001015|  M|             M| 95156.63169|           0|\n",
      "|  12001017|  M|             M| 90132.16997|        null|\n",
      "|  12001018|  M|             M| 1102122.265|          14|\n",
      "|  12001019|  M|             M| 133719.7864|        null|\n",
      "|  12001020|  F|             S| 77097.54451|           3|\n",
      "+----------+---+--------------+------------+------------+\n",
      "only showing top 20 rows\n",
      "\n"
     ]
    }
   ],
   "source": [
    "# as both data frames have user id using same name, we can pass column name as string as well\n",
    "df_lms.alias(\"df_lms\"). \\\n",
    "    join(df_Customer.alias(\"df_Customer\"), 'CUSTOMERID'). \\\n",
    "    select(\"df_lms.CUSTOMERID\",\"df_Customer.SEX\",\"df_Customer.MARITAL_STATUS\",\"df_Customer.GROSS_INCOME\",\"df_Customer.PRE_JOBYEARS\").\\\n",
    "    show()"
   ]
  },
  {
   "cell_type": "code",
   "execution_count": 22,
   "metadata": {
    "application/vnd.databricks.v1+cell": {
     "inputWidgets": {},
     "nuid": "c4d96db9-0121-45c6-8f08-2d747fd2fee1",
     "showTitle": false,
     "title": ""
    }
   },
   "outputs": [
    {
     "name": "stdout",
     "output_type": "stream",
     "text": [
      "+----------+---+--------------+------------+------------+\n",
      "|CUSTOMERID|SEX|MARITAL_STATUS|GROSS_INCOME|PRE_JOBYEARS|\n",
      "+----------+---+--------------+------------+------------+\n",
      "|  12001000|  M|             M| 198375.2218|           8|\n",
      "|  12001001|  M|             M| 242703.9829|          10|\n",
      "|  12001002|  M|             M|         0.0|        null|\n",
      "|  12001003|  M|             M| 365263.5116|        null|\n",
      "|  12001004|  M|             M|  187342.199|        null|\n",
      "|  12001005|  M|             M| 53536.20823|        null|\n",
      "|  12001006|  M|             M| 49842.14981|        null|\n",
      "|  12001007|  M|             M| 123370.4837|           7|\n",
      "|  12001008|  M|             M| 183331.9827|        null|\n",
      "|  12001009|  M|             M| 93803.84407|        null|\n",
      "|  12001010|  M|             M| 35880.96962|           5|\n",
      "|  12001011|  M|             M| 63576.87454|           0|\n",
      "|  12001012|  M|             M| 108093.2976|           1|\n",
      "|  12001013|  M|             M| 331757.8472|           5|\n",
      "|  12001014|  M|             M| 59535.38624|           8|\n",
      "|  12001015|  M|             M| 95156.63169|           0|\n",
      "|  12001017|  M|             M| 90132.16997|        null|\n",
      "|  12001018|  M|             M| 1102122.265|          14|\n",
      "|  12001019|  M|             M| 133719.7864|        null|\n",
      "|  12001020|  F|             S| 77097.54451|           3|\n",
      "+----------+---+--------------+------------+------------+\n",
      "only showing top 20 rows\n",
      "\n"
     ]
    }
   ],
   "source": [
    "# Using df_lms[\"CUSTOMERID\"]\n",
    "df_lms.alias(\"df_lms\"). \\\n",
    "    join(df_Customer.alias(\"df_Customer\"), 'CUSTOMERID'). \\\n",
    "    select(df_lms[\"CUSTOMERID\"], \"df_Customer.SEX\",\"df_Customer.MARITAL_STATUS\",\"df_Customer.GROSS_INCOME\",\"df_Customer.PRE_JOBYEARS\").\\\n",
    "    show()"
   ]
  },
  {
   "cell_type": "markdown",
   "metadata": {
    "application/vnd.databricks.v1+cell": {
     "inputWidgets": {},
     "nuid": "16ee1892-edfd-47a7-b5ee-748cb0aa1196",
     "showTitle": false,
     "title": ""
    }
   },
   "source": [
    "## Left Join"
   ]
  },
  {
   "cell_type": "code",
   "execution_count": 25,
   "metadata": {
    "application/vnd.databricks.v1+cell": {
     "inputWidgets": {},
     "nuid": "3bf4c6f9-f309-4516-88c0-cbbe76e5142c",
     "showTitle": false,
     "title": ""
    }
   },
   "outputs": [
    {
     "name": "stdout",
     "output_type": "stream",
     "text": [
      "+----------+---+--------------+------------+------------+\n",
      "|CUSTOMERID|SEX|MARITAL_STATUS|GROSS_INCOME|PRE_JOBYEARS|\n",
      "+----------+---+--------------+------------+------------+\n",
      "|  12001000|  M|             M| 198375.2218|           8|\n",
      "|  12001001|  M|             M| 242703.9829|          10|\n",
      "|  12001002|  M|             M|         0.0|        null|\n",
      "|  12001003|  M|             M| 365263.5116|        null|\n",
      "|  12001004|  M|             M|  187342.199|        null|\n",
      "|  12001005|  M|             M| 53536.20823|        null|\n",
      "|  12001006|  M|             M| 49842.14981|        null|\n",
      "|  12001007|  M|             M| 123370.4837|           7|\n",
      "|  12001008|  M|             M| 183331.9827|        null|\n",
      "|  12001009|  M|             M| 93803.84407|        null|\n",
      "|  12001010|  M|             M| 35880.96962|           5|\n",
      "|  12001011|  M|             M| 63576.87454|           0|\n",
      "|  12001012|  M|             M| 108093.2976|           1|\n",
      "|  12001013|  M|             M| 331757.8472|           5|\n",
      "|  12001014|  M|             M| 59535.38624|           8|\n",
      "|  12001015|  M|             M| 95156.63169|           0|\n",
      "|  12001017|  M|             M| 90132.16997|        null|\n",
      "|  12001018|  M|             M| 1102122.265|          14|\n",
      "|  12001019|  M|             M| 133719.7864|        null|\n",
      "|  12001020|  F|             S| 77097.54451|           3|\n",
      "+----------+---+--------------+------------+------------+\n",
      "only showing top 20 rows\n",
      "\n"
     ]
    }
   ],
   "source": [
    "df_lms. \\\n",
    "    join(df_Customer, df_lms.CUSTOMERID == df_Customer.CUSTOMERID, 'left'). \\\n",
    "    select(df_lms[\"CUSTOMERID\"], df_Customer[\"SEX\"],df_Customer[\"MARITAL_STATUS\"],df_Customer[\"GROSS_INCOME\"],df_Customer[\"PRE_JOBYEARS\"]).\\\n",
    "    show()"
   ]
  },
  {
   "cell_type": "markdown",
   "metadata": {},
   "source": [
    "## Right Join"
   ]
  },
  {
   "cell_type": "code",
   "execution_count": 27,
   "metadata": {
    "application/vnd.databricks.v1+cell": {
     "inputWidgets": {},
     "nuid": "3bf4c6f9-f309-4516-88c0-cbbe76e5142c",
     "showTitle": false,
     "title": ""
    }
   },
   "outputs": [
    {
     "name": "stdout",
     "output_type": "stream",
     "text": [
      "+----------+---+--------------+------------+------------+\n",
      "|CUSTOMERID|SEX|MARITAL_STATUS|GROSS_INCOME|PRE_JOBYEARS|\n",
      "+----------+---+--------------+------------+------------+\n",
      "|  12001000|  M|             M| 198375.2218|           8|\n",
      "|  12001001|  M|             M| 242703.9829|          10|\n",
      "|  12001002|  M|             M|         0.0|        null|\n",
      "|  12001003|  M|             M| 365263.5116|        null|\n",
      "|  12001004|  M|             M|  187342.199|        null|\n",
      "|  12001005|  M|             M| 53536.20823|        null|\n",
      "|  12001006|  M|             M| 49842.14981|        null|\n",
      "|  12001007|  M|             M| 123370.4837|           7|\n",
      "|  12001008|  M|             M| 183331.9827|        null|\n",
      "|  12001009|  M|             M| 93803.84407|        null|\n",
      "|  12001010|  M|             M| 35880.96962|           5|\n",
      "|  12001011|  M|             M| 63576.87454|           0|\n",
      "|  12001012|  M|             M| 108093.2976|           1|\n",
      "|  12001013|  M|             M| 331757.8472|           5|\n",
      "|  12001014|  M|             M| 59535.38624|           8|\n",
      "|  12001015|  M|             M| 95156.63169|           0|\n",
      "|  12001017|  M|             M| 90132.16997|        null|\n",
      "|  12001018|  M|             M| 1102122.265|          14|\n",
      "|  12001019|  M|             M| 133719.7864|        null|\n",
      "|  12001020|  F|             S| 77097.54451|           3|\n",
      "+----------+---+--------------+------------+------------+\n",
      "only showing top 20 rows\n",
      "\n"
     ]
    }
   ],
   "source": [
    "df_lms. \\\n",
    "    join(df_Customer, df_lms.CUSTOMERID == df_Customer.CUSTOMERID, 'right'). \\\n",
    "    select(df_lms[\"CUSTOMERID\"], df_Customer[\"SEX\"],df_Customer[\"MARITAL_STATUS\"],df_Customer[\"GROSS_INCOME\"],df_Customer[\"PRE_JOBYEARS\"]).\\\n",
    "    show()"
   ]
  },
  {
   "cell_type": "markdown",
   "metadata": {},
   "source": [
    "## Full Join"
   ]
  },
  {
   "cell_type": "code",
   "execution_count": 28,
   "metadata": {
    "application/vnd.databricks.v1+cell": {
     "inputWidgets": {},
     "nuid": "17f7f29d-6f63-45bc-b7dd-73f7eb264f33",
     "showTitle": false,
     "title": ""
    }
   },
   "outputs": [
    {
     "name": "stdout",
     "output_type": "stream",
     "text": [
      "+----------+----+--------------+------------+------------+\n",
      "|CUSTOMERID| SEX|MARITAL_STATUS|GROSS_INCOME|PRE_JOBYEARS|\n",
      "+----------+----+--------------+------------+------------+\n",
      "|  12001106|null|          null|         0.0|        null|\n",
      "|  12001259|   M|             M| 332600.3293|        null|\n",
      "|  12001327|   M|             M|         0.0|        null|\n",
      "|  12001475|   F|             M| 171778.2654|        null|\n",
      "|  12001499|   M|             M| 100137.9312|        null|\n",
      "|  12002029|   M|             M| 47449.95505|        null|\n",
      "|  12002240|   M|             M| 34112.44317|        null|\n",
      "|  12002637|null|          null|         0.0|        null|\n",
      "|  12002655|   M|             S|  63054.4236|           2|\n",
      "|  12002687|   M|             M|  188007.273|        null|\n",
      "|  12003035|   F|             M| 62937.81796|        null|\n",
      "|  12003318|   F|             M| 47891.33602|        null|\n",
      "|  12003733|null|          null|         0.0|        null|\n",
      "|  12003749|   M|             M| 98522.53688|        null|\n",
      "|  12004267|   M|             M|   97584.227|        null|\n",
      "|  12004523|   M|             M|  40534.9866|        null|\n",
      "|  12004731|   M|             M| 56727.70788|        null|\n",
      "|  12005347|   M|             M| 59601.44326|        null|\n",
      "|  12005574|   M|             M| 71871.53383|        null|\n",
      "|  12005663|   M|             M| 205176.0918|          11|\n",
      "+----------+----+--------------+------------+------------+\n",
      "only showing top 20 rows\n",
      "\n"
     ]
    }
   ],
   "source": [
    "df_lms. \\\n",
    "    join(df_Customer, df_lms.CUSTOMERID == df_Customer.CUSTOMERID, 'full'). \\\n",
    "    select(df_lms[\"CUSTOMERID\"], df_Customer[\"SEX\"],df_Customer[\"MARITAL_STATUS\"],df_Customer[\"GROSS_INCOME\"],df_Customer[\"PRE_JOBYEARS\"]).\\\n",
    "    show()"
   ]
  },
  {
   "cell_type": "markdown",
   "metadata": {},
   "source": [
    "## Performance Tuning"
   ]
  },
  {
   "cell_type": "markdown",
   "metadata": {},
   "source": [
    "### Brodcast Join"
   ]
  },
  {
   "cell_type": "code",
   "execution_count": 34,
   "metadata": {},
   "outputs": [],
   "source": [
    "from pyspark.sql.functions import broadcast"
   ]
  },
  {
   "cell_type": "code",
   "execution_count": 37,
   "metadata": {},
   "outputs": [
    {
     "name": "stdout",
     "output_type": "stream",
     "text": [
      "+----------+---------+\n",
      "|first_name|     city|\n",
      "+----------+---------+\n",
      "|    andrea| medellin|\n",
      "|   rodolfo| medellin|\n",
      "|     abdul|bangalore|\n",
      "+----------+---------+\n",
      "\n"
     ]
    }
   ],
   "source": [
    "peopleDF = (\n",
    "  (\"andrea\", \"medellin\"),\n",
    "  (\"rodolfo\", \"medellin\"),\n",
    "  (\"abdul\", \"bangalore\")\n",
    ")\n",
    "\n",
    "peopleDF_a = spark.sparkContext.parallelize(peopleDF)\n",
    "peopleDF_b = spark.createDataFrame(peopleDF_a, [\"first_name\", \"city\"])\n",
    "\n",
    "peopleDF_b.show()"
   ]
  },
  {
   "cell_type": "code",
   "execution_count": 38,
   "metadata": {},
   "outputs": [
    {
     "name": "stdout",
     "output_type": "stream",
     "text": [
      "+---------+--------+----------+\n",
      "|     city| country|population|\n",
      "+---------+--------+----------+\n",
      "| medellin|colombia|       2.5|\n",
      "|bangalore|   india|      12.3|\n",
      "+---------+--------+----------+\n",
      "\n"
     ]
    }
   ],
   "source": [
    "citiesDF = (\n",
    "  (\"medellin\", \"colombia\", 2.5),\n",
    "  (\"bangalore\", \"india\", 12.3)\n",
    ")\n",
    "\n",
    "\n",
    "citiesDF_a = spark.sparkContext.parallelize(citiesDF)\n",
    "citiesDF_b = spark.createDataFrame(citiesDF_a, (\"city\", \"country\", \"population\"))\n",
    "\n",
    "citiesDF_b.show()"
   ]
  },
  {
   "cell_type": "code",
   "execution_count": 39,
   "metadata": {},
   "outputs": [
    {
     "name": "stdout",
     "output_type": "stream",
     "text": [
      "== Parsed Logical Plan ==\n",
      "Join Inner, (city#712 = city#722)\n",
      ":- LogicalRDD [first_name#711, city#712], false\n",
      "+- ResolvedHint (broadcast)\n",
      "   +- LogicalRDD [city#722, country#723, population#724], false\n",
      "\n",
      "== Analyzed Logical Plan ==\n",
      "first_name: string, city: string, city: string, country: string, population: double\n",
      "Join Inner, (city#712 = city#722)\n",
      ":- LogicalRDD [first_name#711, city#712], false\n",
      "+- ResolvedHint (broadcast)\n",
      "   +- LogicalRDD [city#722, country#723, population#724], false\n",
      "\n",
      "== Optimized Logical Plan ==\n",
      "Join Inner, (city#712 = city#722)\n",
      ":- Filter isnotnull(city#712)\n",
      ":  +- LogicalRDD [first_name#711, city#712], false\n",
      "+- ResolvedHint (broadcast)\n",
      "   +- Filter isnotnull(city#722)\n",
      "      +- LogicalRDD [city#722, country#723, population#724], false\n",
      "\n",
      "== Physical Plan ==\n",
      "*(2) BroadcastHashJoin [city#712], [city#722], Inner, BuildRight\n",
      ":- *(2) Filter isnotnull(city#712)\n",
      ":  +- Scan ExistingRDD[first_name#711,city#712]\n",
      "+- BroadcastExchange HashedRelationBroadcastMode(List(input[0, string, false]))\n",
      "   +- *(1) Filter isnotnull(city#722)\n",
      "      +- Scan ExistingRDD[city#722,country#723,population#724]\n"
     ]
    }
   ],
   "source": [
    "# Brodcast Hash Join\n",
    "peopleDF_b_j = peopleDF_b.join(\n",
    "  broadcast(citiesDF_b),\n",
    "  peopleDF_b.city == citiesDF_b.city\n",
    ")\n",
    "\n",
    "peopleDF_b_j.explain(True)"
   ]
  },
  {
   "cell_type": "code",
   "execution_count": 40,
   "metadata": {},
   "outputs": [
    {
     "name": "stdout",
     "output_type": "stream",
     "text": [
      "== Parsed Logical Plan ==\n",
      "Join Inner, (city#712 = city#722)\n",
      ":- LogicalRDD [first_name#711, city#712], false\n",
      "+- LogicalRDD [city#722, country#723, population#724], false\n",
      "\n",
      "== Analyzed Logical Plan ==\n",
      "first_name: string, city: string, city: string, country: string, population: double\n",
      "Join Inner, (city#712 = city#722)\n",
      ":- LogicalRDD [first_name#711, city#712], false\n",
      "+- LogicalRDD [city#722, country#723, population#724], false\n",
      "\n",
      "== Optimized Logical Plan ==\n",
      "Join Inner, (city#712 = city#722)\n",
      ":- Filter isnotnull(city#712)\n",
      ":  +- LogicalRDD [first_name#711, city#712], false\n",
      "+- Filter isnotnull(city#722)\n",
      "   +- LogicalRDD [city#722, country#723, population#724], false\n",
      "\n",
      "== Physical Plan ==\n",
      "*(5) SortMergeJoin [city#712], [city#722], Inner\n",
      ":- *(2) Sort [city#712 ASC NULLS FIRST], false, 0\n",
      ":  +- Exchange hashpartitioning(city#712, 200)\n",
      ":     +- *(1) Filter isnotnull(city#712)\n",
      ":        +- Scan ExistingRDD[first_name#711,city#712]\n",
      "+- *(4) Sort [city#722 ASC NULLS FIRST], false, 0\n",
      "   +- Exchange hashpartitioning(city#722, 200)\n",
      "      +- *(3) Filter isnotnull(city#722)\n",
      "         +- Scan ExistingRDD[city#722,country#723,population#724]\n"
     ]
    }
   ],
   "source": [
    "## Sort Merge Join\n",
    "peopleDF_b_j = peopleDF_b.join(\n",
    "  citiesDF_b,\n",
    "  peopleDF_b.city == citiesDF_b.city\n",
    ")\n",
    "\n",
    "peopleDF_b_j.explain(True)"
   ]
  },
  {
   "cell_type": "markdown",
   "metadata": {},
   "source": [
    "## Automatic Detection"
   ]
  },
  {
   "cell_type": "markdown",
   "metadata": {},
   "source": [
    "- In many cases, Spark can automatically detect whether to use a broadcast join or not, depending on the size of the data. If Spark can detect that one of the joined DataFrames is small (10 MB by default), Spark will automatically broadcast it for us. The code below:"
   ]
  },
  {
   "cell_type": "code",
   "execution_count": 44,
   "metadata": {},
   "outputs": [
    {
     "name": "stdout",
     "output_type": "stream",
     "text": [
      "== Parsed Logical Plan ==\n",
      "'Join UsingJoin(Inner,Buffer(CUSTOMERID))\n",
      ":- Relation[AGREEMENTID#96,CUSTOMERID#97,LOAN_AMT#98,NET_DISBURSED_AMT#99,INTEREST_START_DATE#100,CURRENT_ROI#101,ORIGNAL_ROI#102,CURRENT_TENOR#103,ORIGNAL_TENOR#104,DUEDAY#105,AUTHORIZATIONDATE#106,CITY#107,PRE_EMI_DUEAMT#108,PRE_EMI_RECEIVED_AMT#109,PRE_EMI_OS_AMOUNT#110,EMI_DUEAMT#111,EMI_RECEIVED_AMT#112,EMI_OS_AMOUNT#113,EXCESS_AVAILABLE#114,EXCESS_ADJUSTED_AMT#115,BALANCE_EXCESS#116,NET_RECEIVABLE#117,OUTSTANDING_PRINCIPAL#118,PAID_PRINCIPAL#119,... 14 more fields] csv\n",
      "+- Relation[CUSTOMERID#210,CUST_CONSTTYPE_ID#211,CUST_CATEGORYID#212,PROFESSION#213,AGE#214,SEX#215,MARITAL_STATUS#216,QUALIFICATION#217,NO_OF_DEPENDENT#218,OCCUPATION#219,POSITION#220,GROSS_INCOME#221,PRE_JOBYEARS#222,NETTAKEHOMEINCOME#223,BRANCH_PINCODE#224] csv\n",
      "\n",
      "== Analyzed Logical Plan ==\n",
      "CUSTOMERID: string, AGREEMENTID: int, LOAN_AMT: string, NET_DISBURSED_AMT: string, INTEREST_START_DATE: string, CURRENT_ROI: double, ORIGNAL_ROI: double, CURRENT_TENOR: int, ORIGNAL_TENOR: int, DUEDAY: int, AUTHORIZATIONDATE: string, CITY: string, PRE_EMI_DUEAMT: double, PRE_EMI_RECEIVED_AMT: double, PRE_EMI_OS_AMOUNT: double, EMI_DUEAMT: double, EMI_RECEIVED_AMT: double, EMI_OS_AMOUNT: double, EXCESS_AVAILABLE: double, EXCESS_ADJUSTED_AMT: double, BALANCE_EXCESS: double, NET_RECEIVABLE: double, OUTSTANDING_PRINCIPAL: double, PAID_PRINCIPAL: double, ... 28 more fields\n",
      "Project [CUSTOMERID#97, AGREEMENTID#96, LOAN_AMT#98, NET_DISBURSED_AMT#99, INTEREST_START_DATE#100, CURRENT_ROI#101, ORIGNAL_ROI#102, CURRENT_TENOR#103, ORIGNAL_TENOR#104, DUEDAY#105, AUTHORIZATIONDATE#106, CITY#107, PRE_EMI_DUEAMT#108, PRE_EMI_RECEIVED_AMT#109, PRE_EMI_OS_AMOUNT#110, EMI_DUEAMT#111, EMI_RECEIVED_AMT#112, EMI_OS_AMOUNT#113, EXCESS_AVAILABLE#114, EXCESS_ADJUSTED_AMT#115, BALANCE_EXCESS#116, NET_RECEIVABLE#117, OUTSTANDING_PRINCIPAL#118, PAID_PRINCIPAL#119, ... 28 more fields]\n",
      "+- Join Inner, (cast(CUSTOMERID#97 as int) = CUSTOMERID#210)\n",
      "   :- Relation[AGREEMENTID#96,CUSTOMERID#97,LOAN_AMT#98,NET_DISBURSED_AMT#99,INTEREST_START_DATE#100,CURRENT_ROI#101,ORIGNAL_ROI#102,CURRENT_TENOR#103,ORIGNAL_TENOR#104,DUEDAY#105,AUTHORIZATIONDATE#106,CITY#107,PRE_EMI_DUEAMT#108,PRE_EMI_RECEIVED_AMT#109,PRE_EMI_OS_AMOUNT#110,EMI_DUEAMT#111,EMI_RECEIVED_AMT#112,EMI_OS_AMOUNT#113,EXCESS_AVAILABLE#114,EXCESS_ADJUSTED_AMT#115,BALANCE_EXCESS#116,NET_RECEIVABLE#117,OUTSTANDING_PRINCIPAL#118,PAID_PRINCIPAL#119,... 14 more fields] csv\n",
      "   +- Relation[CUSTOMERID#210,CUST_CONSTTYPE_ID#211,CUST_CATEGORYID#212,PROFESSION#213,AGE#214,SEX#215,MARITAL_STATUS#216,QUALIFICATION#217,NO_OF_DEPENDENT#218,OCCUPATION#219,POSITION#220,GROSS_INCOME#221,PRE_JOBYEARS#222,NETTAKEHOMEINCOME#223,BRANCH_PINCODE#224] csv\n",
      "\n",
      "== Optimized Logical Plan ==\n",
      "Project [CUSTOMERID#97, AGREEMENTID#96, LOAN_AMT#98, NET_DISBURSED_AMT#99, INTEREST_START_DATE#100, CURRENT_ROI#101, ORIGNAL_ROI#102, CURRENT_TENOR#103, ORIGNAL_TENOR#104, DUEDAY#105, AUTHORIZATIONDATE#106, CITY#107, PRE_EMI_DUEAMT#108, PRE_EMI_RECEIVED_AMT#109, PRE_EMI_OS_AMOUNT#110, EMI_DUEAMT#111, EMI_RECEIVED_AMT#112, EMI_OS_AMOUNT#113, EXCESS_AVAILABLE#114, EXCESS_ADJUSTED_AMT#115, BALANCE_EXCESS#116, NET_RECEIVABLE#117, OUTSTANDING_PRINCIPAL#118, PAID_PRINCIPAL#119, ... 28 more fields]\n",
      "+- Join Inner, (cast(CUSTOMERID#97 as int) = CUSTOMERID#210)\n",
      "   :- Filter isnotnull(CUSTOMERID#97)\n",
      "   :  +- Relation[AGREEMENTID#96,CUSTOMERID#97,LOAN_AMT#98,NET_DISBURSED_AMT#99,INTEREST_START_DATE#100,CURRENT_ROI#101,ORIGNAL_ROI#102,CURRENT_TENOR#103,ORIGNAL_TENOR#104,DUEDAY#105,AUTHORIZATIONDATE#106,CITY#107,PRE_EMI_DUEAMT#108,PRE_EMI_RECEIVED_AMT#109,PRE_EMI_OS_AMOUNT#110,EMI_DUEAMT#111,EMI_RECEIVED_AMT#112,EMI_OS_AMOUNT#113,EXCESS_AVAILABLE#114,EXCESS_ADJUSTED_AMT#115,BALANCE_EXCESS#116,NET_RECEIVABLE#117,OUTSTANDING_PRINCIPAL#118,PAID_PRINCIPAL#119,... 14 more fields] csv\n",
      "   +- Filter isnotnull(CUSTOMERID#210)\n",
      "      +- Relation[CUSTOMERID#210,CUST_CONSTTYPE_ID#211,CUST_CATEGORYID#212,PROFESSION#213,AGE#214,SEX#215,MARITAL_STATUS#216,QUALIFICATION#217,NO_OF_DEPENDENT#218,OCCUPATION#219,POSITION#220,GROSS_INCOME#221,PRE_JOBYEARS#222,NETTAKEHOMEINCOME#223,BRANCH_PINCODE#224] csv\n",
      "\n",
      "== Physical Plan ==\n",
      "*(5) Project [CUSTOMERID#97, AGREEMENTID#96, LOAN_AMT#98, NET_DISBURSED_AMT#99, INTEREST_START_DATE#100, CURRENT_ROI#101, ORIGNAL_ROI#102, CURRENT_TENOR#103, ORIGNAL_TENOR#104, DUEDAY#105, AUTHORIZATIONDATE#106, CITY#107, PRE_EMI_DUEAMT#108, PRE_EMI_RECEIVED_AMT#109, PRE_EMI_OS_AMOUNT#110, EMI_DUEAMT#111, EMI_RECEIVED_AMT#112, EMI_OS_AMOUNT#113, EXCESS_AVAILABLE#114, EXCESS_ADJUSTED_AMT#115, BALANCE_EXCESS#116, NET_RECEIVABLE#117, OUTSTANDING_PRINCIPAL#118, PAID_PRINCIPAL#119, ... 28 more fields]\n",
      "+- *(5) SortMergeJoin [cast(CUSTOMERID#97 as int)], [CUSTOMERID#210], Inner\n",
      "   :- *(2) Sort [cast(CUSTOMERID#97 as int) ASC NULLS FIRST], false, 0\n",
      "   :  +- Exchange hashpartitioning(cast(CUSTOMERID#97 as int), 200)\n",
      "   :     +- *(1) Project [AGREEMENTID#96, CUSTOMERID#97, LOAN_AMT#98, NET_DISBURSED_AMT#99, INTEREST_START_DATE#100, CURRENT_ROI#101, ORIGNAL_ROI#102, CURRENT_TENOR#103, ORIGNAL_TENOR#104, DUEDAY#105, AUTHORIZATIONDATE#106, CITY#107, PRE_EMI_DUEAMT#108, PRE_EMI_RECEIVED_AMT#109, PRE_EMI_OS_AMOUNT#110, EMI_DUEAMT#111, EMI_RECEIVED_AMT#112, EMI_OS_AMOUNT#113, EXCESS_AVAILABLE#114, EXCESS_ADJUSTED_AMT#115, BALANCE_EXCESS#116, NET_RECEIVABLE#117, OUTSTANDING_PRINCIPAL#118, PAID_PRINCIPAL#119, ... 14 more fields]\n",
      "   :        +- *(1) Filter isnotnull(CUSTOMERID#97)\n",
      "   :           +- *(1) FileScan csv [AGREEMENTID#96,CUSTOMERID#97,LOAN_AMT#98,NET_DISBURSED_AMT#99,INTEREST_START_DATE#100,CURRENT_ROI#101,ORIGNAL_ROI#102,CURRENT_TENOR#103,ORIGNAL_TENOR#104,DUEDAY#105,AUTHORIZATIONDATE#106,CITY#107,PRE_EMI_DUEAMT#108,PRE_EMI_RECEIVED_AMT#109,PRE_EMI_OS_AMOUNT#110,EMI_DUEAMT#111,EMI_RECEIVED_AMT#112,EMI_OS_AMOUNT#113,EXCESS_AVAILABLE#114,EXCESS_ADJUSTED_AMT#115,BALANCE_EXCESS#116,NET_RECEIVABLE#117,OUTSTANDING_PRINCIPAL#118,PAID_PRINCIPAL#119,... 14 more fields] Batched: false, Format: CSV, Location: InMemoryFileIndex[file:/home/atingupta2005/data/Predict-Forclosure/Foreclosure-Prediction-Dataset..., PartitionFilters: [], PushedFilters: [IsNotNull(CUSTOMERID)], ReadSchema: struct<AGREEMENTID:int,CUSTOMERID:string,LOAN_AMT:string,NET_DISBURSED_AMT:string,INTEREST_START_...\n",
      "   +- *(4) Sort [CUSTOMERID#210 ASC NULLS FIRST], false, 0\n",
      "      +- Exchange hashpartitioning(CUSTOMERID#210, 200)\n",
      "         +- *(3) Project [CUSTOMERID#210, CUST_CONSTTYPE_ID#211, CUST_CATEGORYID#212, PROFESSION#213, AGE#214, SEX#215, MARITAL_STATUS#216, QUALIFICATION#217, NO_OF_DEPENDENT#218, OCCUPATION#219, POSITION#220, GROSS_INCOME#221, PRE_JOBYEARS#222, NETTAKEHOMEINCOME#223, BRANCH_PINCODE#224]\n",
      "            +- *(3) Filter isnotnull(CUSTOMERID#210)\n",
      "               +- *(3) FileScan csv [CUSTOMERID#210,CUST_CONSTTYPE_ID#211,CUST_CATEGORYID#212,PROFESSION#213,AGE#214,SEX#215,MARITAL_STATUS#216,QUALIFICATION#217,NO_OF_DEPENDENT#218,OCCUPATION#219,POSITION#220,GROSS_INCOME#221,PRE_JOBYEARS#222,NETTAKEHOMEINCOME#223,BRANCH_PINCODE#224] Batched: false, Format: CSV, Location: InMemoryFileIndex[file:/home/atingupta2005/data/Predict-Forclosure/Foreclosure-Prediction-Dataset..., PartitionFilters: [], PushedFilters: [IsNotNull(CUSTOMERID)], ReadSchema: struct<CUSTOMERID:int,CUST_CONSTTYPE_ID:int,CUST_CATEGORYID:int,PROFESSION:string,AGE:int,SEX:str...\n"
     ]
    }
   ],
   "source": [
    "f = df_lms.join(df_Customer,\"CUSTOMERID\")\n",
    "f.explain(True)"
   ]
  },
  {
   "cell_type": "markdown",
   "metadata": {},
   "source": [
    "## Configuring Broadcast Join Detection"
   ]
  },
  {
   "cell_type": "markdown",
   "metadata": {},
   "source": [
    "- The threshold for automatic broadcast join detection can be tuned or disabled.\n",
    "- The configuration is spark.sql.autoBroadcastJoinThreshold, and the value is taken in bytes. If you want to configure it to another number, we can set it in the SparkSession:"
   ]
  },
  {
   "cell_type": "code",
   "execution_count": null,
   "metadata": {},
   "outputs": [],
   "source": [
    "spark.conf.set(\"spark.sql.autoBroadcastJoinThreshold\", 104857600)"
   ]
  },
  {
   "cell_type": "code",
   "execution_count": 46,
   "metadata": {},
   "outputs": [],
   "source": [
    "# Disable\n",
    "spark.conf.set(\"spark.sql.autoBroadcastJoinThreshold\", -1) "
   ]
  },
  {
   "cell_type": "code",
   "execution_count": null,
   "metadata": {},
   "outputs": [],
   "source": [
    "# This time it will not use Brodcast Hash join\n",
    "f = df_lms.join(df_Customer,\"CUSTOMERID\")\n",
    "f.explain(True)"
   ]
  }
 ],
 "metadata": {
  "application/vnd.databricks.v1+notebook": {
   "dashboards": [],
   "language": "python",
   "notebookMetadata": {
    "pythonIndentUnit": 4
   },
   "notebookName": "05 Performing Inner Join on Spark Data Frames",
   "notebookOrigID": 4326754976675550,
   "widgets": {}
  },
  "kernelspec": {
   "display_name": "Python 3",
   "language": "python",
   "name": "python3"
  },
  "language_info": {
   "codemirror_mode": {
    "name": "ipython",
    "version": 3
   },
   "file_extension": ".py",
   "mimetype": "text/x-python",
   "name": "python",
   "nbconvert_exporter": "python",
   "pygments_lexer": "ipython3",
   "version": "3.6.9"
  }
 },
 "nbformat": 4,
 "nbformat_minor": 4
}
